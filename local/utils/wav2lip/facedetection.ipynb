{
 "cells": [
  {
   "cell_type": "code",
   "execution_count": null,
   "metadata": {
    "collapsed": true
   },
   "outputs": [],
   "source": [
    "\n",
    "# 人脸检测模型导出\n",
    "import paddlehub as hub\n",
    "\n",
    "# 加载模型\n",
    "face_detector = hub.Module(name=\"pyramidbox_lite_server\")\n",
    "\n",
    "# 导出推理模型\n",
    "face_detector.save_inference_model(\n",
    "    dirname='inference/face_detection',\n",
    "    model_filename='__model__',\n",
    "    params_filename='__params__')"
   ]
  },
  {
   "cell_type": "code",
   "execution_count": null,
   "outputs": [],
   "source": [
    "from paddlehub import Trainer\n",
    "\n",
    "# 新建临时train.txt\n",
    "#with open('/home/rogerle/PycharmProjects/WonkerAIMan/data/waves/train_list.txt', 'w', encoding='UTF-8') as f:\n",
    "#    for x in range(37):\n",
    "#        f.write('{:04d}.jpg 0\\n'.format(x+1))\n",
    "\n",
    "import os\n",
    "from typing import Callable, Tuple\n",
    "\n",
    "import paddle\n",
    "import numpy as np\n",
    "import paddlehub as hub\n",
    "import paddlehub.vision.transforms as T\n",
    "from paddlehub.finetune import trainer\n",
    "\n",
    "#定义数据预处理方式\n",
    "transforms = T.Compose([T.Resize((256, 256)),\n",
    "                        T.CenterCrop(224),\n",
    "                        T.Normalize(mean=[0.485, 0.456, 0.406], std = [0.229, 0.224, 0.225])],\n",
    "                        to_rgb=True)\n",
    "# 自定义数据集\n",
    "class FaceDataset(paddle.io.Dataset):\n",
    "    def __init__(self, transforms: Callable, mode: str = 'train'):\n",
    "        # 数据集存放位置\n",
    "        self.mode = mode\n",
    "        self.transforms = transforms\n",
    "        self.dataset_dir = \"/home/rogerle/PycharmProjects/WonkerAIMan/data/waves\"\n",
    "        self.label_list = ['0','1']\n",
    "        if self.mode == 'train':\n",
    "            self.file = 'train_list.txt'\n",
    "        elif self.mode == 'test':\n",
    "            self.file = 'test_list.txt'\n",
    "        else:\n",
    "            self.file = 'validate_list.txt'\n",
    "\n",
    "        self.file = os.path.join(self.dataset_dir, self.file)\n",
    "\n",
    "        with open(self.file, 'r') as file:\n",
    "            self.data = file.read().split('\\n')\n",
    "\n",
    "    def __getitem__(self, idx) -> Tuple[np.ndarray, int]:\n",
    "        img_name, grt = self.data[idx].split(' ')\n",
    "        img_path = os.path.join(self.dataset_dir, img_name)\n",
    "        im = self.transforms(img_path)\n",
    "        return im, int(grt)\n",
    "\n",
    "    def __len__(self):\n",
    "        return len(self.data)\n",
    "\n",
    "dataset = FaceDataset(transforms, mode='train')\n",
    "dataset_validate = FaceDataset(transforms,mode='val')\n",
    "\n",
    "# 使用resnet50_vd_imagenet_ssld预训练模型进行finetune\n",
    "model = hub.Module(name=\"resnet50_vd_imagenet_ssld\",label_list=[\"0\",\"1\"])\n",
    "\n",
    "optimizer = paddle.optimizer.Adam(learning_rate=0.001,parameters=model.parameters())\n",
    "trainer = Trainer(model, optimizer, checkpoint_dir='./img_classification_ckpt',use_gpu=True,use_vdl=True)\n",
    "\n",
    "trainer.train(dataset, epochs=100, batch_size=12, eval_dataset=dataset_validate, save_interval=10,log_interval=1)\n",
    "\n"
   ],
   "metadata": {
    "collapsed": false
   }
  },
  {
   "cell_type": "code",
   "execution_count": 1,
   "outputs": [
    {
     "name": "stderr",
     "output_type": "stream",
     "text": [
      "/home/rogerle/PycharmProjects/WonkerAIMan/venv/lib/python3.10/site-packages/_distutils_hack/__init__.py:33: UserWarning: Setuptools is replacing distutils.\n",
      "  warnings.warn(\"Setuptools is replacing distutils.\")\n",
      "W0405 21:58:27.891147 18940 gpu_resources.cc:61] Please NOTE: device: 0, GPU Compute Capability: 8.6, Driver API Version: 12.1, Runtime API Version: 11.7\n",
      "W0405 21:58:27.891680 18940 gpu_resources.cc:91] device: 0, cuDNN Version: 8.8.\n"
     ]
    },
    {
     "name": "stdout",
     "output_type": "stream",
     "text": [
      "load custom parameters success\n",
      "[{'0': 0.997945}]\n"
     ]
    }
   ],
   "source": [
    "import paddle\n",
    "import paddlehub as hub\n",
    "import numpy as np\n",
    "import paddlehub.vision.transforms as T\n",
    "from typing import Callable, Tuple\n",
    "import os\n",
    "\n",
    "model = hub.Module(name='resnet50_vd_imagenet_ssld', label_list=[\"0\", \"1\"] ,load_checkpoint='/home/rogerle/PycharmProjects/WonkerAIMan/local/utils/wav2lip/img_classification_ckpt/best_model/model.pdparams')\n",
    "result = model.predict(['0001.jpg'])\n",
    "print (result)"
   ],
   "metadata": {
    "collapsed": false
   }
  },
  {
   "cell_type": "code",
   "execution_count": null,
   "outputs": [],
   "source": [],
   "metadata": {
    "collapsed": false
   }
  }
 ],
 "metadata": {
  "kernelspec": {
   "display_name": "Python 3",
   "language": "python",
   "name": "python3"
  },
  "language_info": {
   "codemirror_mode": {
    "name": "ipython",
    "version": 2
   },
   "file_extension": ".py",
   "mimetype": "text/x-python",
   "name": "python",
   "nbconvert_exporter": "python",
   "pygments_lexer": "ipython2",
   "version": "2.7.6"
  }
 },
 "nbformat": 4,
 "nbformat_minor": 0
}
